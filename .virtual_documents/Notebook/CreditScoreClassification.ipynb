





import pandas as pd
import numpy as np
import matplotlib.pyplot as plt
import seaborn as sns
import warnings
warnings.filterwarnings('ignore')
import plotly.express as px





pd.set_option('display.max_row', 1000000)
pd.set_option('display.max_columns', 10000)














data = pd.read_csv("train.csv")





data.head()











data.shape





data.columns





data.dtypes





data.isnull().sum()





data.duplicated().sum()





data.info()





data.describe().T





data.Credit_Score.value_counts()

















px.box(data_frame = data, x = 'Occupation' , color = 'Credit_Score')

















px.box(data_frame = data, x = 'Credit_Score', y = 'Annual_Income', color = 'Credit_Score')

















px.box(data_frame = data, x = 'Credit_Score', y = 'Monthly_Inhand_Salary', color = 'Credit_Score')

















px.box(data_frame = data, x = 'Credit_Score', y = 'Num_Bank_Accounts', color = 'Credit_Score')

















px.box(data_frame = data, x = 'Credit_Score', y = 'Num_Credit_Card', color = 'Credit_Score')

















px.box(data_frame = data, x = 'Credit_Score', y = 'Interest_Rate', color = 'Credit_Score')

















px.box(data_frame = data, x = 'Credit_Score', y = 'Num_of_Loan', color = 'Credit_Score')

















px.box(data_frame = data, x = 'Credit_Score', y = 'Delay_from_due_date', color = 'Credit_Score')

















px.box(data_frame = data, x = 'Credit_Score', y = 'Num_of_Delayed_Payment', color = 'Credit_Score')

















px.box(data_frame = data, x = 'Credit_Score', y = 'Outstanding_Debt', color = 'Credit_Score')

















px.box(data_frame = data, x = 'Credit_Score', y = 'Credit_Utilization_Ratio', color = 'Credit_Score')

















px.box(data_frame = data, x = 'Credit_Score', y = 'Credit_History_Age', color = 'Credit_Score')

















px.box(data_frame = data, x = 'Credit_Score', y = 'Total_EMI_per_month', color = 'Credit_Score')

















px.box(data_frame = data, x = 'Credit_Score', y = 'Amount_invested_monthly', color = 'Credit_Score')

















px.box(data_frame = data, x = 'Credit_Score', y = 'Monthly_Balance', color = 'Credit_Score')























from sklearn.preprocessing import LabelEncoder


le = LabelEncoder()


copied_data = data.copy()


copied_data['Credit_Mix'] = le.fit_transform(copied_data['Credit_Mix'])








from sklearn.model_selection import train_test_split





x = copied_data[["Annual_Income", "Monthly_Inhand_Salary", 
                   "Num_Bank_Accounts", "Num_Credit_Card", 
                   "Interest_Rate", "Num_of_Loan", 
                   "Delay_from_due_date", "Num_of_Delayed_Payment", 
                   "Credit_Mix", "Outstanding_Debt", "Credit_History_Age", "Monthly_Balance"]]





y = copied_data[['Credit_Score']]





X_train, X_test, y_train, y_test = train_test_split(x, y, test_size = 0.2, random_state = 42)


X_train.shape, X_test.shape, y_train.shape, y_test.shape








from sklearn.ensemble import RandomForestClassifier


model = RandomForestClassifier()


model.fit(X_train, y_train)











model.predict([[43391.96,3688.996667,1.0,5.0,10.0,0.0,9.0,6.0,1,1468.28,284.0,554.930282]])


model.predict([[14351.21,1274.934167,8.0,7.0,18.0,6.0,18.0,17.0,0,4766.87,98.0,238.314485]])








data.tail()


data['Credit_score'].unique()


from sklearn.preprocessing import LabelEncoder


le = LabelEncoder()


data['Credit_score'] = le.fit_transform(data['Credit_score'])


data['Credit_score'].unique()


data.head()








df = pd.DataFrame({'a':['x', 'y', 'z'],
'b':['xy', 'yz', 'zx']})


df


df['a'] = df['a'].map({'x':1, 'y':2, 'z':3})


df





















